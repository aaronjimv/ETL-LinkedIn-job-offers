{
 "cells": [
  {
   "cell_type": "markdown",
   "metadata": {},
   "source": [
    "# Let's make some Analytics to the data base."
   ]
  },
  {
   "cell_type": "markdown",
   "metadata": {},
   "source": [
    "I would like to know which **location** has most job offers."
   ]
  },
  {
   "cell_type": "code",
   "execution_count": 66,
   "metadata": {},
   "outputs": [],
   "source": [
    "import pandas as pd\n",
    "import matplotlib as plt\n",
    "from matplotlib import pyplot\n",
    "import seaborn as sns\n",
    "import numpy as np\n",
    "import sqlite3"
   ]
  },
  {
   "cell_type": "code",
   "execution_count": 67,
   "metadata": {},
   "outputs": [
    {
     "data": {
      "text/html": [
       "<div>\n",
       "<style scoped>\n",
       "    .dataframe tbody tr th:only-of-type {\n",
       "        vertical-align: middle;\n",
       "    }\n",
       "\n",
       "    .dataframe tbody tr th {\n",
       "        vertical-align: top;\n",
       "    }\n",
       "\n",
       "    .dataframe thead th {\n",
       "        text-align: right;\n",
       "    }\n",
       "</style>\n",
       "<table border=\"1\" class=\"dataframe\">\n",
       "  <thead>\n",
       "    <tr style=\"text-align: right;\">\n",
       "      <th></th>\n",
       "      <th>id</th>\n",
       "      <th>company</th>\n",
       "      <th>job</th>\n",
       "      <th>locate</th>\n",
       "      <th>url</th>\n",
       "      <th>date</th>\n",
       "    </tr>\n",
       "  </thead>\n",
       "  <tbody>\n",
       "    <tr>\n",
       "      <th>0</th>\n",
       "      <td>1</td>\n",
       "      <td>Dexian Inc</td>\n",
       "      <td>Entry Level Data Engineering</td>\n",
       "      <td>Houston, TX</td>\n",
       "      <td>https://www.linkedin.com/jobs/view/entry-level...</td>\n",
       "      <td>2024-03-24</td>\n",
       "    </tr>\n",
       "    <tr>\n",
       "      <th>1</th>\n",
       "      <td>2</td>\n",
       "      <td>Planned Systems International</td>\n",
       "      <td>Jr Web Developer (Entry Level)</td>\n",
       "      <td>United States</td>\n",
       "      <td>https://www.linkedin.com/jobs/view/jr-web-deve...</td>\n",
       "      <td>2024-03-25</td>\n",
       "    </tr>\n",
       "    <tr>\n",
       "      <th>2</th>\n",
       "      <td>3</td>\n",
       "      <td>Medasource</td>\n",
       "      <td>Data Analyst</td>\n",
       "      <td>New York City Metropolitan Area</td>\n",
       "      <td>https://www.linkedin.com/jobs/view/data-analys...</td>\n",
       "      <td>2024-03-25</td>\n",
       "    </tr>\n",
       "    <tr>\n",
       "      <th>3</th>\n",
       "      <td>4</td>\n",
       "      <td>Get It Recruit - Information Technology</td>\n",
       "      <td>Junior Software Developer - Remote | WFH</td>\n",
       "      <td>Mount Laurel, NJ</td>\n",
       "      <td>https://www.linkedin.com/jobs/view/junior-soft...</td>\n",
       "      <td>2024-03-25</td>\n",
       "    </tr>\n",
       "    <tr>\n",
       "      <th>4</th>\n",
       "      <td>5</td>\n",
       "      <td>Dexian Inc</td>\n",
       "      <td>Junior Backend Engineer</td>\n",
       "      <td>Autaugaville, AL</td>\n",
       "      <td>https://www.linkedin.com/jobs/view/junior-back...</td>\n",
       "      <td>2024-03-24</td>\n",
       "    </tr>\n",
       "  </tbody>\n",
       "</table>\n",
       "</div>"
      ],
      "text/plain": [
       "   id                                  company  \\\n",
       "0   1                               Dexian Inc   \n",
       "1   2            Planned Systems International   \n",
       "2   3                               Medasource   \n",
       "3   4  Get It Recruit - Information Technology   \n",
       "4   5                               Dexian Inc   \n",
       "\n",
       "                                        job                           locate  \\\n",
       "0              Entry Level Data Engineering                      Houston, TX   \n",
       "1            Jr Web Developer (Entry Level)                    United States   \n",
       "2                              Data Analyst  New York City Metropolitan Area   \n",
       "3  Junior Software Developer - Remote | WFH                 Mount Laurel, NJ   \n",
       "4                   Junior Backend Engineer                 Autaugaville, AL   \n",
       "\n",
       "                                                 url        date  \n",
       "0  https://www.linkedin.com/jobs/view/entry-level...  2024-03-24  \n",
       "1  https://www.linkedin.com/jobs/view/jr-web-deve...  2024-03-25  \n",
       "2  https://www.linkedin.com/jobs/view/data-analys...  2024-03-25  \n",
       "3  https://www.linkedin.com/jobs/view/junior-soft...  2024-03-25  \n",
       "4  https://www.linkedin.com/jobs/view/junior-back...  2024-03-24  "
      ]
     },
     "execution_count": 67,
     "metadata": {},
     "output_type": "execute_result"
    }
   ],
   "source": [
    "# make the connection to the DB\n",
    "conn = sqlite3.connect(\"../data/offers.db\")\n",
    "\n",
    "# create data frame\n",
    "sql = pd.read_sql_query(\"SELECT * FROM offers\", conn)\n",
    "df = pd.DataFrame(sql, columns=[\"id\", \"company\", \"job\", \"locate\", \"url\", \"date\"])\n",
    "\n",
    "df.head()"
   ]
  },
  {
   "cell_type": "markdown",
   "metadata": {},
   "source": [
    "Explore the data a little:"
   ]
  },
  {
   "cell_type": "code",
   "execution_count": 68,
   "metadata": {},
   "outputs": [
    {
     "data": {
      "text/plain": [
       "(1102, 6)"
      ]
     },
     "execution_count": 68,
     "metadata": {},
     "output_type": "execute_result"
    }
   ],
   "source": [
    "df.shape"
   ]
  },
  {
   "cell_type": "code",
   "execution_count": 69,
   "metadata": {},
   "outputs": [
    {
     "name": "stdout",
     "output_type": "stream",
     "text": [
      "<class 'pandas.core.frame.DataFrame'>\n",
      "RangeIndex: 1102 entries, 0 to 1101\n",
      "Data columns (total 6 columns):\n",
      " #   Column   Non-Null Count  Dtype \n",
      "---  ------   --------------  ----- \n",
      " 0   id       1102 non-null   int64 \n",
      " 1   company  1102 non-null   object\n",
      " 2   job      1102 non-null   object\n",
      " 3   locate   1102 non-null   object\n",
      " 4   url      1102 non-null   object\n",
      " 5   date     1102 non-null   object\n",
      "dtypes: int64(1), object(5)\n",
      "memory usage: 51.8+ KB\n"
     ]
    }
   ],
   "source": [
    "df.info()"
   ]
  },
  {
   "cell_type": "code",
   "execution_count": 70,
   "metadata": {},
   "outputs": [
    {
     "name": "stdout",
     "output_type": "stream",
     "text": [
      "id         0\n",
      "company    0\n",
      "job        0\n",
      "locate     0\n",
      "url        0\n",
      "date       0\n",
      "dtype: int64\n"
     ]
    }
   ],
   "source": [
    "print(df.isnull().sum())"
   ]
  },
  {
   "cell_type": "code",
   "execution_count": 71,
   "metadata": {},
   "outputs": [
    {
     "data": {
      "text/plain": [
       "0"
      ]
     },
     "execution_count": 71,
     "metadata": {},
     "output_type": "execute_result"
    }
   ],
   "source": [
    "df.duplicated().sum()"
   ]
  },
  {
   "cell_type": "code",
   "execution_count": 72,
   "metadata": {},
   "outputs": [
    {
     "data": {
      "text/html": [
       "<div>\n",
       "<style scoped>\n",
       "    .dataframe tbody tr th:only-of-type {\n",
       "        vertical-align: middle;\n",
       "    }\n",
       "\n",
       "    .dataframe tbody tr th {\n",
       "        vertical-align: top;\n",
       "    }\n",
       "\n",
       "    .dataframe thead th {\n",
       "        text-align: right;\n",
       "    }\n",
       "</style>\n",
       "<table border=\"1\" class=\"dataframe\">\n",
       "  <thead>\n",
       "    <tr style=\"text-align: right;\">\n",
       "      <th></th>\n",
       "      <th>company</th>\n",
       "      <th>job</th>\n",
       "      <th>locate</th>\n",
       "      <th>url</th>\n",
       "      <th>date</th>\n",
       "    </tr>\n",
       "  </thead>\n",
       "  <tbody>\n",
       "    <tr>\n",
       "      <th>count</th>\n",
       "      <td>1102</td>\n",
       "      <td>1102</td>\n",
       "      <td>1102</td>\n",
       "      <td>1102</td>\n",
       "      <td>1102</td>\n",
       "    </tr>\n",
       "    <tr>\n",
       "      <th>unique</th>\n",
       "      <td>207</td>\n",
       "      <td>250</td>\n",
       "      <td>131</td>\n",
       "      <td>612</td>\n",
       "      <td>10</td>\n",
       "    </tr>\n",
       "    <tr>\n",
       "      <th>top</th>\n",
       "      <td>Patterned Learning Career</td>\n",
       "      <td>Junior Python Django Developer</td>\n",
       "      <td>United States</td>\n",
       "      <td>https://www.linkedin.com/jobs/view/entry-level...</td>\n",
       "      <td>2024-03-25</td>\n",
       "    </tr>\n",
       "    <tr>\n",
       "      <th>freq</th>\n",
       "      <td>175</td>\n",
       "      <td>50</td>\n",
       "      <td>246</td>\n",
       "      <td>6</td>\n",
       "      <td>279</td>\n",
       "    </tr>\n",
       "  </tbody>\n",
       "</table>\n",
       "</div>"
      ],
      "text/plain": [
       "                          company                             job  \\\n",
       "count                        1102                            1102   \n",
       "unique                        207                             250   \n",
       "top     Patterned Learning Career  Junior Python Django Developer   \n",
       "freq                          175                              50   \n",
       "\n",
       "               locate                                                url  \\\n",
       "count            1102                                               1102   \n",
       "unique            131                                                612   \n",
       "top     United States  https://www.linkedin.com/jobs/view/entry-level...   \n",
       "freq              246                                                  6   \n",
       "\n",
       "              date  \n",
       "count         1102  \n",
       "unique          10  \n",
       "top     2024-03-25  \n",
       "freq           279  "
      ]
     },
     "execution_count": 72,
     "metadata": {},
     "output_type": "execute_result"
    }
   ],
   "source": [
    "df.describe(include=['object'])"
   ]
  },
  {
   "cell_type": "markdown",
   "metadata": {},
   "source": [
    "The location data that is most repeated (top) is `United States`, but that is the default location when performing the scraping process. \n",
    "\n",
    "Les't see more information about `locate` columm:"
   ]
  },
  {
   "cell_type": "code",
   "execution_count": 73,
   "metadata": {},
   "outputs": [
    {
     "data": {
      "text/plain": [
       "0                        Houston, TX\n",
       "1                      United States\n",
       "2    New York City Metropolitan Area\n",
       "3                   Mount Laurel, NJ\n",
       "4                   Autaugaville, AL\n",
       "Name: locate, dtype: object"
      ]
     },
     "execution_count": 73,
     "metadata": {},
     "output_type": "execute_result"
    }
   ],
   "source": [
    "df['locate'].head()"
   ]
  },
  {
   "cell_type": "code",
   "execution_count": 74,
   "metadata": {},
   "outputs": [
    {
     "data": {
      "text/html": [
       "<div>\n",
       "<style scoped>\n",
       "    .dataframe tbody tr th:only-of-type {\n",
       "        vertical-align: middle;\n",
       "    }\n",
       "\n",
       "    .dataframe tbody tr th {\n",
       "        vertical-align: top;\n",
       "    }\n",
       "\n",
       "    .dataframe thead th {\n",
       "        text-align: right;\n",
       "    }\n",
       "</style>\n",
       "<table border=\"1\" class=\"dataframe\">\n",
       "  <thead>\n",
       "    <tr style=\"text-align: right;\">\n",
       "      <th></th>\n",
       "      <th>count</th>\n",
       "    </tr>\n",
       "    <tr>\n",
       "      <th>locate</th>\n",
       "      <th></th>\n",
       "    </tr>\n",
       "  </thead>\n",
       "  <tbody>\n",
       "    <tr>\n",
       "      <th>United States</th>\n",
       "      <td>246</td>\n",
       "    </tr>\n",
       "    <tr>\n",
       "      <th>New York, NY</th>\n",
       "      <td>108</td>\n",
       "    </tr>\n",
       "    <tr>\n",
       "      <th>Boston, MA</th>\n",
       "      <td>77</td>\n",
       "    </tr>\n",
       "    <tr>\n",
       "      <th>Los Angeles, CA</th>\n",
       "      <td>60</td>\n",
       "    </tr>\n",
       "    <tr>\n",
       "      <th>Houston, TX</th>\n",
       "      <td>53</td>\n",
       "    </tr>\n",
       "    <tr>\n",
       "      <th>...</th>\n",
       "      <td>...</td>\n",
       "    </tr>\n",
       "    <tr>\n",
       "      <th>Winston-Salem, NC</th>\n",
       "      <td>1</td>\n",
       "    </tr>\n",
       "    <tr>\n",
       "      <th>Nevada City, CA</th>\n",
       "      <td>1</td>\n",
       "    </tr>\n",
       "    <tr>\n",
       "      <th>St George, UT</th>\n",
       "      <td>1</td>\n",
       "    </tr>\n",
       "    <tr>\n",
       "      <th>Ohio, United States</th>\n",
       "      <td>1</td>\n",
       "    </tr>\n",
       "    <tr>\n",
       "      <th>National City, CA</th>\n",
       "      <td>1</td>\n",
       "    </tr>\n",
       "  </tbody>\n",
       "</table>\n",
       "<p>131 rows × 1 columns</p>\n",
       "</div>"
      ],
      "text/plain": [
       "                     count\n",
       "locate                    \n",
       "United States          246\n",
       "New York, NY           108\n",
       "Boston, MA              77\n",
       "Los Angeles, CA         60\n",
       "Houston, TX             53\n",
       "...                    ...\n",
       "Winston-Salem, NC        1\n",
       "Nevada City, CA          1\n",
       "St George, UT            1\n",
       "Ohio, United States      1\n",
       "National City, CA        1\n",
       "\n",
       "[131 rows x 1 columns]"
      ]
     },
     "execution_count": 74,
     "metadata": {},
     "output_type": "execute_result"
    }
   ],
   "source": [
    "location = df['locate'].value_counts().to_frame()\n",
    "location"
   ]
  },
  {
   "cell_type": "markdown",
   "metadata": {},
   "source": [
    "There are rows with: \n",
    "* `United States`\n",
    "* just the name like `New York City Metropolitan Area`\n",
    "* state - Country like `Ohio, United States`\n",
    "* the city - state abbreviation like `Houston, TX` / `New York, NY`.\n",
    "\n",
    "I would like to only have the **state abbreviation** to know in general which of them has most offers."
   ]
  },
  {
   "cell_type": "code",
   "execution_count": 75,
   "metadata": {},
   "outputs": [
    {
     "name": "stderr",
     "output_type": "stream",
     "text": [
      "C:\\Users\\jv_aa\\AppData\\Local\\Temp\\ipykernel_22396\\184181021.py:5: SettingWithCopyWarning: \n",
      "A value is trying to be set on a copy of a slice from a DataFrame.\n",
      "Try using .loc[row_indexer,col_indexer] = value instead\n",
      "\n",
      "See the caveats in the documentation: https://pandas.pydata.org/pandas-docs/stable/user_guide/indexing.html#returning-a-view-versus-a-copy\n",
      "  new_df['state_code'] = new_df['locate'].str.split(',').str[1].str.strip()\n"
     ]
    }
   ],
   "source": [
    "# create a new DF without the `United States` rows\n",
    "new_df = df.loc[(df['locate'] != \"United States\")]\n",
    "\n",
    "# create a new column with the state abbreviation called `state_code`\n",
    "new_df['state_code'] = new_df['locate'].str.split(',').str[1].str.strip()"
   ]
  },
  {
   "cell_type": "code",
   "execution_count": 76,
   "metadata": {},
   "outputs": [
    {
     "data": {
      "text/html": [
       "<div>\n",
       "<style scoped>\n",
       "    .dataframe tbody tr th:only-of-type {\n",
       "        vertical-align: middle;\n",
       "    }\n",
       "\n",
       "    .dataframe tbody tr th {\n",
       "        vertical-align: top;\n",
       "    }\n",
       "\n",
       "    .dataframe thead th {\n",
       "        text-align: right;\n",
       "    }\n",
       "</style>\n",
       "<table border=\"1\" class=\"dataframe\">\n",
       "  <thead>\n",
       "    <tr style=\"text-align: right;\">\n",
       "      <th></th>\n",
       "      <th>id</th>\n",
       "      <th>company</th>\n",
       "      <th>job</th>\n",
       "      <th>locate</th>\n",
       "      <th>url</th>\n",
       "      <th>date</th>\n",
       "      <th>state_code</th>\n",
       "    </tr>\n",
       "  </thead>\n",
       "  <tbody>\n",
       "    <tr>\n",
       "      <th>0</th>\n",
       "      <td>1</td>\n",
       "      <td>Dexian Inc</td>\n",
       "      <td>Entry Level Data Engineering</td>\n",
       "      <td>Houston, TX</td>\n",
       "      <td>https://www.linkedin.com/jobs/view/entry-level...</td>\n",
       "      <td>2024-03-24</td>\n",
       "      <td>TX</td>\n",
       "    </tr>\n",
       "    <tr>\n",
       "      <th>2</th>\n",
       "      <td>3</td>\n",
       "      <td>Medasource</td>\n",
       "      <td>Data Analyst</td>\n",
       "      <td>New York City Metropolitan Area</td>\n",
       "      <td>https://www.linkedin.com/jobs/view/data-analys...</td>\n",
       "      <td>2024-03-25</td>\n",
       "      <td>NaN</td>\n",
       "    </tr>\n",
       "    <tr>\n",
       "      <th>3</th>\n",
       "      <td>4</td>\n",
       "      <td>Get It Recruit - Information Technology</td>\n",
       "      <td>Junior Software Developer - Remote | WFH</td>\n",
       "      <td>Mount Laurel, NJ</td>\n",
       "      <td>https://www.linkedin.com/jobs/view/junior-soft...</td>\n",
       "      <td>2024-03-25</td>\n",
       "      <td>NJ</td>\n",
       "    </tr>\n",
       "    <tr>\n",
       "      <th>4</th>\n",
       "      <td>5</td>\n",
       "      <td>Dexian Inc</td>\n",
       "      <td>Junior Backend Engineer</td>\n",
       "      <td>Autaugaville, AL</td>\n",
       "      <td>https://www.linkedin.com/jobs/view/junior-back...</td>\n",
       "      <td>2024-03-24</td>\n",
       "      <td>AL</td>\n",
       "    </tr>\n",
       "    <tr>\n",
       "      <th>5</th>\n",
       "      <td>6</td>\n",
       "      <td>HireMeFast LLC</td>\n",
       "      <td>Data Scientist Entry Level</td>\n",
       "      <td>Fort Smith, AR</td>\n",
       "      <td>https://www.linkedin.com/jobs/view/data-scient...</td>\n",
       "      <td>2024-03-24</td>\n",
       "      <td>AR</td>\n",
       "    </tr>\n",
       "  </tbody>\n",
       "</table>\n",
       "</div>"
      ],
      "text/plain": [
       "   id                                  company  \\\n",
       "0   1                               Dexian Inc   \n",
       "2   3                               Medasource   \n",
       "3   4  Get It Recruit - Information Technology   \n",
       "4   5                               Dexian Inc   \n",
       "5   6                           HireMeFast LLC   \n",
       "\n",
       "                                        job                           locate  \\\n",
       "0              Entry Level Data Engineering                      Houston, TX   \n",
       "2                              Data Analyst  New York City Metropolitan Area   \n",
       "3  Junior Software Developer - Remote | WFH                 Mount Laurel, NJ   \n",
       "4                   Junior Backend Engineer                 Autaugaville, AL   \n",
       "5                Data Scientist Entry Level                   Fort Smith, AR   \n",
       "\n",
       "                                                 url        date state_code  \n",
       "0  https://www.linkedin.com/jobs/view/entry-level...  2024-03-24         TX  \n",
       "2  https://www.linkedin.com/jobs/view/data-analys...  2024-03-25        NaN  \n",
       "3  https://www.linkedin.com/jobs/view/junior-soft...  2024-03-25         NJ  \n",
       "4  https://www.linkedin.com/jobs/view/junior-back...  2024-03-24         AL  \n",
       "5  https://www.linkedin.com/jobs/view/data-scient...  2024-03-24         AR  "
      ]
     },
     "execution_count": 76,
     "metadata": {},
     "output_type": "execute_result"
    }
   ],
   "source": [
    "new_df.head()"
   ]
  },
  {
   "cell_type": "markdown",
   "metadata": {},
   "source": [
    "Clean the data:"
   ]
  },
  {
   "cell_type": "markdown",
   "metadata": {},
   "source": [
    "It seems that now, the `state_code` column has NaN value."
   ]
  },
  {
   "cell_type": "code",
   "execution_count": 77,
   "metadata": {},
   "outputs": [
    {
     "data": {
      "text/plain": [
       "(856, 7)"
      ]
     },
     "execution_count": 77,
     "metadata": {},
     "output_type": "execute_result"
    }
   ],
   "source": [
    "new_df.shape"
   ]
  },
  {
   "cell_type": "code",
   "execution_count": 78,
   "metadata": {},
   "outputs": [
    {
     "name": "stdout",
     "output_type": "stream",
     "text": [
      "id             0\n",
      "company        0\n",
      "job            0\n",
      "locate         0\n",
      "url            0\n",
      "date           0\n",
      "state_code    15\n",
      "dtype: int64\n"
     ]
    }
   ],
   "source": [
    "print(new_df.isnull().sum())"
   ]
  },
  {
   "cell_type": "code",
   "execution_count": 79,
   "metadata": {},
   "outputs": [
    {
     "name": "stderr",
     "output_type": "stream",
     "text": [
      "C:\\Users\\jv_aa\\AppData\\Local\\Temp\\ipykernel_22396\\3574703595.py:2: SettingWithCopyWarning: \n",
      "A value is trying to be set on a copy of a slice from a DataFrame\n",
      "\n",
      "See the caveats in the documentation: https://pandas.pydata.org/pandas-docs/stable/user_guide/indexing.html#returning-a-view-versus-a-copy\n",
      "  new_df.dropna(subset=[\"state_code\"], axis=0, inplace=True)\n",
      "C:\\Users\\jv_aa\\AppData\\Local\\Temp\\ipykernel_22396\\3574703595.py:5: SettingWithCopyWarning: \n",
      "A value is trying to be set on a copy of a slice from a DataFrame\n",
      "\n",
      "See the caveats in the documentation: https://pandas.pydata.org/pandas-docs/stable/user_guide/indexing.html#returning-a-view-versus-a-copy\n",
      "  new_df.drop(\"locate\", axis=1, inplace=True)\n"
     ]
    }
   ],
   "source": [
    "# eliminate nan value\n",
    "new_df.dropna(subset=[\"state_code\"], axis=0, inplace=True)\n",
    "\n",
    "# drop the `locate` columm because I going to use the `state_code`\n",
    "new_df.drop(\"locate\", axis=1, inplace=True)\n",
    "\n",
    "# reset table index\n",
    "new_df.reset_index(drop=True, inplace=True)"
   ]
  },
  {
   "cell_type": "code",
   "execution_count": 80,
   "metadata": {},
   "outputs": [
    {
     "name": "stdout",
     "output_type": "stream",
     "text": [
      "id            0\n",
      "company       0\n",
      "job           0\n",
      "url           0\n",
      "date          0\n",
      "state_code    0\n",
      "dtype: int64\n"
     ]
    }
   ],
   "source": [
    "print(new_df.isnull().sum())"
   ]
  },
  {
   "cell_type": "code",
   "execution_count": 81,
   "metadata": {},
   "outputs": [
    {
     "data": {
      "text/plain": [
       "(841, 6)"
      ]
     },
     "execution_count": 81,
     "metadata": {},
     "output_type": "execute_result"
    }
   ],
   "source": [
    "new_df.shape"
   ]
  },
  {
   "cell_type": "markdown",
   "metadata": {},
   "source": [
    "The rows that had the form `state, United States` in `locate` columm are now in the `state_code` column as `United States`. Let's remove this value."
   ]
  },
  {
   "cell_type": "code",
   "execution_count": 82,
   "metadata": {},
   "outputs": [],
   "source": [
    "# clean the rows like `state, United States``\n",
    "new_df = new_df.loc[(new_df['state_code'] != \"United States\")]\n",
    "\n",
    "# reset table index\n",
    "new_df.reset_index(drop=True, inplace=True)"
   ]
  },
  {
   "cell_type": "code",
   "execution_count": 83,
   "metadata": {},
   "outputs": [
    {
     "data": {
      "text/plain": [
       "(802, 6)"
      ]
     },
     "execution_count": 83,
     "metadata": {},
     "output_type": "execute_result"
    }
   ],
   "source": [
    "new_df.shape"
   ]
  },
  {
   "cell_type": "markdown",
   "metadata": {},
   "source": [
    "Now let's evaluate the state with most offers:"
   ]
  },
  {
   "cell_type": "code",
   "execution_count": 84,
   "metadata": {},
   "outputs": [
    {
     "data": {
      "text/html": [
       "<div>\n",
       "<style scoped>\n",
       "    .dataframe tbody tr th:only-of-type {\n",
       "        vertical-align: middle;\n",
       "    }\n",
       "\n",
       "    .dataframe tbody tr th {\n",
       "        vertical-align: top;\n",
       "    }\n",
       "\n",
       "    .dataframe thead th {\n",
       "        text-align: right;\n",
       "    }\n",
       "</style>\n",
       "<table border=\"1\" class=\"dataframe\">\n",
       "  <thead>\n",
       "    <tr style=\"text-align: right;\">\n",
       "      <th></th>\n",
       "      <th>company</th>\n",
       "      <th>job</th>\n",
       "      <th>url</th>\n",
       "      <th>date</th>\n",
       "      <th>state_code</th>\n",
       "    </tr>\n",
       "  </thead>\n",
       "  <tbody>\n",
       "    <tr>\n",
       "      <th>count</th>\n",
       "      <td>802</td>\n",
       "      <td>802</td>\n",
       "      <td>802</td>\n",
       "      <td>802</td>\n",
       "      <td>802</td>\n",
       "    </tr>\n",
       "    <tr>\n",
       "      <th>unique</th>\n",
       "      <td>75</td>\n",
       "      <td>140</td>\n",
       "      <td>419</td>\n",
       "      <td>10</td>\n",
       "      <td>37</td>\n",
       "    </tr>\n",
       "    <tr>\n",
       "      <th>top</th>\n",
       "      <td>Patterned Learning Career</td>\n",
       "      <td>Junior Python Django Developer</td>\n",
       "      <td>https://www.linkedin.com/jobs/view/entry-level...</td>\n",
       "      <td>2024-03-31</td>\n",
       "      <td>NY</td>\n",
       "    </tr>\n",
       "    <tr>\n",
       "      <th>freq</th>\n",
       "      <td>175</td>\n",
       "      <td>49</td>\n",
       "      <td>6</td>\n",
       "      <td>246</td>\n",
       "      <td>128</td>\n",
       "    </tr>\n",
       "  </tbody>\n",
       "</table>\n",
       "</div>"
      ],
      "text/plain": [
       "                          company                             job  \\\n",
       "count                         802                             802   \n",
       "unique                         75                             140   \n",
       "top     Patterned Learning Career  Junior Python Django Developer   \n",
       "freq                          175                              49   \n",
       "\n",
       "                                                      url        date  \\\n",
       "count                                                 802         802   \n",
       "unique                                                419          10   \n",
       "top     https://www.linkedin.com/jobs/view/entry-level...  2024-03-31   \n",
       "freq                                                    6         246   \n",
       "\n",
       "       state_code  \n",
       "count         802  \n",
       "unique         37  \n",
       "top            NY  \n",
       "freq          128  "
      ]
     },
     "execution_count": 84,
     "metadata": {},
     "output_type": "execute_result"
    }
   ],
   "source": [
    "new_df.describe(include=['object'])"
   ]
  },
  {
   "cell_type": "markdown",
   "metadata": {},
   "source": [
    "The value that is most repeated is `NY`. Let's confirm it:"
   ]
  },
  {
   "cell_type": "code",
   "execution_count": 85,
   "metadata": {},
   "outputs": [
    {
     "data": {
      "text/html": [
       "<div>\n",
       "<style scoped>\n",
       "    .dataframe tbody tr th:only-of-type {\n",
       "        vertical-align: middle;\n",
       "    }\n",
       "\n",
       "    .dataframe tbody tr th {\n",
       "        vertical-align: top;\n",
       "    }\n",
       "\n",
       "    .dataframe thead th {\n",
       "        text-align: right;\n",
       "    }\n",
       "</style>\n",
       "<table border=\"1\" class=\"dataframe\">\n",
       "  <thead>\n",
       "    <tr style=\"text-align: right;\">\n",
       "      <th></th>\n",
       "      <th>count</th>\n",
       "    </tr>\n",
       "    <tr>\n",
       "      <th>state_code</th>\n",
       "      <th></th>\n",
       "    </tr>\n",
       "  </thead>\n",
       "  <tbody>\n",
       "    <tr>\n",
       "      <th>NY</th>\n",
       "      <td>128</td>\n",
       "    </tr>\n",
       "    <tr>\n",
       "      <th>CA</th>\n",
       "      <td>98</td>\n",
       "    </tr>\n",
       "    <tr>\n",
       "      <th>TX</th>\n",
       "      <td>85</td>\n",
       "    </tr>\n",
       "    <tr>\n",
       "      <th>MA</th>\n",
       "      <td>82</td>\n",
       "    </tr>\n",
       "    <tr>\n",
       "      <th>AZ</th>\n",
       "      <td>45</td>\n",
       "    </tr>\n",
       "    <tr>\n",
       "      <th>MI</th>\n",
       "      <td>43</td>\n",
       "    </tr>\n",
       "    <tr>\n",
       "      <th>AR</th>\n",
       "      <td>39</td>\n",
       "    </tr>\n",
       "    <tr>\n",
       "      <th>AK</th>\n",
       "      <td>34</td>\n",
       "    </tr>\n",
       "    <tr>\n",
       "      <th>FL</th>\n",
       "      <td>33</td>\n",
       "    </tr>\n",
       "    <tr>\n",
       "      <th>GA</th>\n",
       "      <td>18</td>\n",
       "    </tr>\n",
       "    <tr>\n",
       "      <th>NJ</th>\n",
       "      <td>16</td>\n",
       "    </tr>\n",
       "    <tr>\n",
       "      <th>OR</th>\n",
       "      <td>15</td>\n",
       "    </tr>\n",
       "    <tr>\n",
       "      <th>PA</th>\n",
       "      <td>15</td>\n",
       "    </tr>\n",
       "    <tr>\n",
       "      <th>NC</th>\n",
       "      <td>13</td>\n",
       "    </tr>\n",
       "    <tr>\n",
       "      <th>MD</th>\n",
       "      <td>13</td>\n",
       "    </tr>\n",
       "    <tr>\n",
       "      <th>TN</th>\n",
       "      <td>12</td>\n",
       "    </tr>\n",
       "    <tr>\n",
       "      <th>CO</th>\n",
       "      <td>12</td>\n",
       "    </tr>\n",
       "    <tr>\n",
       "      <th>ND</th>\n",
       "      <td>11</td>\n",
       "    </tr>\n",
       "    <tr>\n",
       "      <th>OH</th>\n",
       "      <td>11</td>\n",
       "    </tr>\n",
       "    <tr>\n",
       "      <th>WA</th>\n",
       "      <td>11</td>\n",
       "    </tr>\n",
       "    <tr>\n",
       "      <th>MN</th>\n",
       "      <td>10</td>\n",
       "    </tr>\n",
       "    <tr>\n",
       "      <th>IL</th>\n",
       "      <td>9</td>\n",
       "    </tr>\n",
       "    <tr>\n",
       "      <th>VA</th>\n",
       "      <td>8</td>\n",
       "    </tr>\n",
       "    <tr>\n",
       "      <th>UT</th>\n",
       "      <td>6</td>\n",
       "    </tr>\n",
       "    <tr>\n",
       "      <th>SC</th>\n",
       "      <td>6</td>\n",
       "    </tr>\n",
       "    <tr>\n",
       "      <th>AL</th>\n",
       "      <td>5</td>\n",
       "    </tr>\n",
       "    <tr>\n",
       "      <th>LA</th>\n",
       "      <td>5</td>\n",
       "    </tr>\n",
       "    <tr>\n",
       "      <th>NV</th>\n",
       "      <td>4</td>\n",
       "    </tr>\n",
       "    <tr>\n",
       "      <th>NM</th>\n",
       "      <td>4</td>\n",
       "    </tr>\n",
       "    <tr>\n",
       "      <th>NH</th>\n",
       "      <td>3</td>\n",
       "    </tr>\n",
       "    <tr>\n",
       "      <th>KS</th>\n",
       "      <td>2</td>\n",
       "    </tr>\n",
       "    <tr>\n",
       "      <th>IN</th>\n",
       "      <td>1</td>\n",
       "    </tr>\n",
       "    <tr>\n",
       "      <th>WI</th>\n",
       "      <td>1</td>\n",
       "    </tr>\n",
       "    <tr>\n",
       "      <th>ID</th>\n",
       "      <td>1</td>\n",
       "    </tr>\n",
       "    <tr>\n",
       "      <th>MS</th>\n",
       "      <td>1</td>\n",
       "    </tr>\n",
       "    <tr>\n",
       "      <th>SD</th>\n",
       "      <td>1</td>\n",
       "    </tr>\n",
       "    <tr>\n",
       "      <th>NE</th>\n",
       "      <td>1</td>\n",
       "    </tr>\n",
       "  </tbody>\n",
       "</table>\n",
       "</div>"
      ],
      "text/plain": [
       "            count\n",
       "state_code       \n",
       "NY            128\n",
       "CA             98\n",
       "TX             85\n",
       "MA             82\n",
       "AZ             45\n",
       "MI             43\n",
       "AR             39\n",
       "AK             34\n",
       "FL             33\n",
       "GA             18\n",
       "NJ             16\n",
       "OR             15\n",
       "PA             15\n",
       "NC             13\n",
       "MD             13\n",
       "TN             12\n",
       "CO             12\n",
       "ND             11\n",
       "OH             11\n",
       "WA             11\n",
       "MN             10\n",
       "IL              9\n",
       "VA              8\n",
       "UT              6\n",
       "SC              6\n",
       "AL              5\n",
       "LA              5\n",
       "NV              4\n",
       "NM              4\n",
       "NH              3\n",
       "KS              2\n",
       "IN              1\n",
       "WI              1\n",
       "ID              1\n",
       "MS              1\n",
       "SD              1\n",
       "NE              1"
      ]
     },
     "execution_count": 85,
     "metadata": {},
     "output_type": "execute_result"
    }
   ],
   "source": [
    "states = new_df['state_code'].value_counts().to_frame()\n",
    "states"
   ]
  },
  {
   "cell_type": "markdown",
   "metadata": {},
   "source": [
    "And now represent this data on a graph:"
   ]
  },
  {
   "cell_type": "code",
   "execution_count": 86,
   "metadata": {},
   "outputs": [
    {
     "data": {
      "image/png": "[encoded data removed]",
      "text/plain": [
       "<Figure size 2000x1500 with 1 Axes>"
      ]
     },
     "metadata": {},
     "output_type": "display_data"
    }
   ],
   "source": [
    "pyplot.figure(figsize=(20, 15))\n",
    "pyplot.subplot(1, 2, 2)\n",
    "sns.countplot(data = new_df, x = 'state_code')\n",
    "pyplot.title('Which state has the most job offers?', size=11)\n",
    "pyplot.subplots_adjust(right=2)\n",
    "pyplot.show()"
   ]
  },
  {
   "cell_type": "markdown",
   "metadata": {},
   "source": [
    "Now you can clearly see the states with the most job offers are:\n",
    "\n",
    "1. New York, NY.\n",
    "2. California, CA.\n",
    "3. Texas, TX."
   ]
  },
  {
   "cell_type": "code",
   "execution_count": null,
   "metadata": {},
   "outputs": [],
   "source": []
  }
 ],
 "metadata": {
  "kernelspec": {
   "display_name": "venv",
   "language": "python",
   "name": "python3"
  },
  "language_info": {
   "codemirror_mode": {
    "name": "ipython",
    "version": 3
   },
   "file_extension": ".py",
   "mimetype": "text/x-python",
   "name": "python",
   "nbconvert_exporter": "python",
   "pygments_lexer": "ipython3",
   "version": "3.12.0"
  }
 },
 "nbformat": 4,
 "nbformat_minor": 2
}
