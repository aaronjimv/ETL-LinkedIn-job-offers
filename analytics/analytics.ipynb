{
 "cells": [
  {
   "cell_type": "markdown",
   "metadata": {},
   "source": [
    "Analytics"
   ]
  },
  {
   "cell_type": "code",
   "execution_count": 1,
   "metadata": {},
   "outputs": [],
   "source": [
    "import pandas as pd\n",
    "import matplotlib as plt\n",
    "from matplotlib import pyplot\n",
    "import seaborn as sns\n",
    "import numpy as np\n",
    "import sqlite3"
   ]
  },
  {
   "cell_type": "code",
   "execution_count": 2,
   "metadata": {},
   "outputs": [
    {
     "data": {
      "text/html": [
       "<div>\n",
       "<style scoped>\n",
       "    .dataframe tbody tr th:only-of-type {\n",
       "        vertical-align: middle;\n",
       "    }\n",
       "\n",
       "    .dataframe tbody tr th {\n",
       "        vertical-align: top;\n",
       "    }\n",
       "\n",
       "    .dataframe thead th {\n",
       "        text-align: right;\n",
       "    }\n",
       "</style>\n",
       "<table border=\"1\" class=\"dataframe\">\n",
       "  <thead>\n",
       "    <tr style=\"text-align: right;\">\n",
       "      <th></th>\n",
       "      <th>id</th>\n",
       "      <th>company</th>\n",
       "      <th>job</th>\n",
       "      <th>locate</th>\n",
       "      <th>url</th>\n",
       "      <th>date</th>\n",
       "    </tr>\n",
       "  </thead>\n",
       "  <tbody>\n",
       "    <tr>\n",
       "      <th>0</th>\n",
       "      <td>1</td>\n",
       "      <td>Dexian Inc</td>\n",
       "      <td>Entry Level Data Engineering</td>\n",
       "      <td>Houston, TX</td>\n",
       "      <td>https://www.linkedin.com/jobs/view/entry-level...</td>\n",
       "      <td>2024-03-24</td>\n",
       "    </tr>\n",
       "    <tr>\n",
       "      <th>1</th>\n",
       "      <td>2</td>\n",
       "      <td>Planned Systems International</td>\n",
       "      <td>Jr Web Developer (Entry Level)</td>\n",
       "      <td>United States</td>\n",
       "      <td>https://www.linkedin.com/jobs/view/jr-web-deve...</td>\n",
       "      <td>2024-03-25</td>\n",
       "    </tr>\n",
       "    <tr>\n",
       "      <th>2</th>\n",
       "      <td>3</td>\n",
       "      <td>Medasource</td>\n",
       "      <td>Data Analyst</td>\n",
       "      <td>New York City Metropolitan Area</td>\n",
       "      <td>https://www.linkedin.com/jobs/view/data-analys...</td>\n",
       "      <td>2024-03-25</td>\n",
       "    </tr>\n",
       "    <tr>\n",
       "      <th>3</th>\n",
       "      <td>4</td>\n",
       "      <td>Get It Recruit - Information Technology</td>\n",
       "      <td>Junior Software Developer - Remote | WFH</td>\n",
       "      <td>Mount Laurel, NJ</td>\n",
       "      <td>https://www.linkedin.com/jobs/view/junior-soft...</td>\n",
       "      <td>2024-03-25</td>\n",
       "    </tr>\n",
       "    <tr>\n",
       "      <th>4</th>\n",
       "      <td>5</td>\n",
       "      <td>Dexian Inc</td>\n",
       "      <td>Junior Backend Engineer</td>\n",
       "      <td>Autaugaville, AL</td>\n",
       "      <td>https://www.linkedin.com/jobs/view/junior-back...</td>\n",
       "      <td>2024-03-24</td>\n",
       "    </tr>\n",
       "  </tbody>\n",
       "</table>\n",
       "</div>"
      ],
      "text/plain": [
       "   id                                  company  \\\n",
       "0   1                               Dexian Inc   \n",
       "1   2            Planned Systems International   \n",
       "2   3                               Medasource   \n",
       "3   4  Get It Recruit - Information Technology   \n",
       "4   5                               Dexian Inc   \n",
       "\n",
       "                                        job                           locate  \\\n",
       "0              Entry Level Data Engineering                      Houston, TX   \n",
       "1            Jr Web Developer (Entry Level)                    United States   \n",
       "2                              Data Analyst  New York City Metropolitan Area   \n",
       "3  Junior Software Developer - Remote | WFH                 Mount Laurel, NJ   \n",
       "4                   Junior Backend Engineer                 Autaugaville, AL   \n",
       "\n",
       "                                                 url        date  \n",
       "0  https://www.linkedin.com/jobs/view/entry-level...  2024-03-24  \n",
       "1  https://www.linkedin.com/jobs/view/jr-web-deve...  2024-03-25  \n",
       "2  https://www.linkedin.com/jobs/view/data-analys...  2024-03-25  \n",
       "3  https://www.linkedin.com/jobs/view/junior-soft...  2024-03-25  \n",
       "4  https://www.linkedin.com/jobs/view/junior-back...  2024-03-24  "
      ]
     },
     "execution_count": 2,
     "metadata": {},
     "output_type": "execute_result"
    }
   ],
   "source": [
    "conn = sqlite3.connect(\"../data/offers.db\")\n",
    "\n",
    "sql = pd.read_sql_query(\"SELECT * FROM offers\", conn)\n",
    "df = pd.DataFrame(sql, columns=[\"id\", \"company\", \"job\", \"locate\", \"url\", \"date\"])\n",
    "\n",
    "df.head()"
   ]
  },
  {
   "cell_type": "code",
   "execution_count": null,
   "metadata": {},
   "outputs": [],
   "source": []
  }
 ],
 "metadata": {
  "kernelspec": {
   "display_name": "venv",
   "language": "python",
   "name": "python3"
  },
  "language_info": {
   "codemirror_mode": {
    "name": "ipython",
    "version": 3
   },
   "file_extension": ".py",
   "mimetype": "text/x-python",
   "name": "python",
   "nbconvert_exporter": "python",
   "pygments_lexer": "ipython3",
   "version": "3.12.0"
  }
 },
 "nbformat": 4,
 "nbformat_minor": 2
}
