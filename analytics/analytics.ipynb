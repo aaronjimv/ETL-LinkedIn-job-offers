{
 "cells": [
  {
   "cell_type": "markdown",
   "metadata": {},
   "source": [
    "Analytics"
   ]
  },
  {
   "cell_type": "code",
   "execution_count": 49,
   "metadata": {},
   "outputs": [],
   "source": [
    "import pandas as pd\n",
    "import matplotlib as plt\n",
    "from matplotlib import pyplot\n",
    "import seaborn as sns\n",
    "import numpy as np\n",
    "import sqlite3"
   ]
  },
  {
   "cell_type": "code",
   "execution_count": 50,
   "metadata": {},
   "outputs": [
    {
     "data": {
      "text/html": [
       "<div>\n",
       "<style scoped>\n",
       "    .dataframe tbody tr th:only-of-type {\n",
       "        vertical-align: middle;\n",
       "    }\n",
       "\n",
       "    .dataframe tbody tr th {\n",
       "        vertical-align: top;\n",
       "    }\n",
       "\n",
       "    .dataframe thead th {\n",
       "        text-align: right;\n",
       "    }\n",
       "</style>\n",
       "<table border=\"1\" class=\"dataframe\">\n",
       "  <thead>\n",
       "    <tr style=\"text-align: right;\">\n",
       "      <th></th>\n",
       "      <th>id</th>\n",
       "      <th>company</th>\n",
       "      <th>job</th>\n",
       "      <th>locate</th>\n",
       "      <th>url</th>\n",
       "      <th>date</th>\n",
       "    </tr>\n",
       "  </thead>\n",
       "  <tbody>\n",
       "    <tr>\n",
       "      <th>0</th>\n",
       "      <td>1</td>\n",
       "      <td>Dexian Inc</td>\n",
       "      <td>Entry Level Data Engineering</td>\n",
       "      <td>Houston, TX</td>\n",
       "      <td>https://www.linkedin.com/jobs/view/entry-level...</td>\n",
       "      <td>2024-03-24</td>\n",
       "    </tr>\n",
       "    <tr>\n",
       "      <th>1</th>\n",
       "      <td>2</td>\n",
       "      <td>Planned Systems International</td>\n",
       "      <td>Jr Web Developer (Entry Level)</td>\n",
       "      <td>United States</td>\n",
       "      <td>https://www.linkedin.com/jobs/view/jr-web-deve...</td>\n",
       "      <td>2024-03-25</td>\n",
       "    </tr>\n",
       "    <tr>\n",
       "      <th>2</th>\n",
       "      <td>3</td>\n",
       "      <td>Medasource</td>\n",
       "      <td>Data Analyst</td>\n",
       "      <td>New York City Metropolitan Area</td>\n",
       "      <td>https://www.linkedin.com/jobs/view/data-analys...</td>\n",
       "      <td>2024-03-25</td>\n",
       "    </tr>\n",
       "    <tr>\n",
       "      <th>3</th>\n",
       "      <td>4</td>\n",
       "      <td>Get It Recruit - Information Technology</td>\n",
       "      <td>Junior Software Developer - Remote | WFH</td>\n",
       "      <td>Mount Laurel, NJ</td>\n",
       "      <td>https://www.linkedin.com/jobs/view/junior-soft...</td>\n",
       "      <td>2024-03-25</td>\n",
       "    </tr>\n",
       "    <tr>\n",
       "      <th>4</th>\n",
       "      <td>5</td>\n",
       "      <td>Dexian Inc</td>\n",
       "      <td>Junior Backend Engineer</td>\n",
       "      <td>Autaugaville, AL</td>\n",
       "      <td>https://www.linkedin.com/jobs/view/junior-back...</td>\n",
       "      <td>2024-03-24</td>\n",
       "    </tr>\n",
       "  </tbody>\n",
       "</table>\n",
       "</div>"
      ],
      "text/plain": [
       "   id                                  company  \\\n",
       "0   1                               Dexian Inc   \n",
       "1   2            Planned Systems International   \n",
       "2   3                               Medasource   \n",
       "3   4  Get It Recruit - Information Technology   \n",
       "4   5                               Dexian Inc   \n",
       "\n",
       "                                        job                           locate  \\\n",
       "0              Entry Level Data Engineering                      Houston, TX   \n",
       "1            Jr Web Developer (Entry Level)                    United States   \n",
       "2                              Data Analyst  New York City Metropolitan Area   \n",
       "3  Junior Software Developer - Remote | WFH                 Mount Laurel, NJ   \n",
       "4                   Junior Backend Engineer                 Autaugaville, AL   \n",
       "\n",
       "                                                 url        date  \n",
       "0  https://www.linkedin.com/jobs/view/entry-level...  2024-03-24  \n",
       "1  https://www.linkedin.com/jobs/view/jr-web-deve...  2024-03-25  \n",
       "2  https://www.linkedin.com/jobs/view/data-analys...  2024-03-25  \n",
       "3  https://www.linkedin.com/jobs/view/junior-soft...  2024-03-25  \n",
       "4  https://www.linkedin.com/jobs/view/junior-back...  2024-03-24  "
      ]
     },
     "execution_count": 50,
     "metadata": {},
     "output_type": "execute_result"
    }
   ],
   "source": [
    "conn = sqlite3.connect(\"../data/offers.db\")\n",
    "\n",
    "sql = pd.read_sql_query(\"SELECT * FROM offers\", conn)\n",
    "df = pd.DataFrame(sql, columns=[\"id\", \"company\", \"job\", \"locate\", \"url\", \"date\"])\n",
    "\n",
    "df.head()"
   ]
  },
  {
   "cell_type": "code",
   "execution_count": 51,
   "metadata": {},
   "outputs": [
    {
     "data": {
      "text/plain": [
       "(1042, 6)"
      ]
     },
     "execution_count": 51,
     "metadata": {},
     "output_type": "execute_result"
    }
   ],
   "source": [
    "df.shape"
   ]
  },
  {
   "cell_type": "code",
   "execution_count": 52,
   "metadata": {},
   "outputs": [
    {
     "name": "stdout",
     "output_type": "stream",
     "text": [
      "<class 'pandas.core.frame.DataFrame'>\n",
      "RangeIndex: 1042 entries, 0 to 1041\n",
      "Data columns (total 6 columns):\n",
      " #   Column   Non-Null Count  Dtype \n",
      "---  ------   --------------  ----- \n",
      " 0   id       1042 non-null   int64 \n",
      " 1   company  1042 non-null   object\n",
      " 2   job      1042 non-null   object\n",
      " 3   locate   1042 non-null   object\n",
      " 4   url      1042 non-null   object\n",
      " 5   date     1042 non-null   object\n",
      "dtypes: int64(1), object(5)\n",
      "memory usage: 49.0+ KB\n"
     ]
    }
   ],
   "source": [
    "df.info()"
   ]
  },
  {
   "cell_type": "code",
   "execution_count": 53,
   "metadata": {},
   "outputs": [
    {
     "name": "stdout",
     "output_type": "stream",
     "text": [
      "id         0\n",
      "company    0\n",
      "job        0\n",
      "locate     0\n",
      "url        0\n",
      "date       0\n",
      "dtype: int64\n"
     ]
    }
   ],
   "source": [
    "print(df.isnull().sum())"
   ]
  },
  {
   "cell_type": "code",
   "execution_count": 54,
   "metadata": {},
   "outputs": [
    {
     "data": {
      "text/plain": [
       "0"
      ]
     },
     "execution_count": 54,
     "metadata": {},
     "output_type": "execute_result"
    }
   ],
   "source": [
    "df.duplicated().sum()"
   ]
  },
  {
   "cell_type": "code",
   "execution_count": 55,
   "metadata": {},
   "outputs": [
    {
     "data": {
      "text/html": [
       "<div>\n",
       "<style scoped>\n",
       "    .dataframe tbody tr th:only-of-type {\n",
       "        vertical-align: middle;\n",
       "    }\n",
       "\n",
       "    .dataframe tbody tr th {\n",
       "        vertical-align: top;\n",
       "    }\n",
       "\n",
       "    .dataframe thead th {\n",
       "        text-align: right;\n",
       "    }\n",
       "</style>\n",
       "<table border=\"1\" class=\"dataframe\">\n",
       "  <thead>\n",
       "    <tr style=\"text-align: right;\">\n",
       "      <th></th>\n",
       "      <th>company</th>\n",
       "      <th>job</th>\n",
       "      <th>locate</th>\n",
       "      <th>url</th>\n",
       "      <th>date</th>\n",
       "    </tr>\n",
       "  </thead>\n",
       "  <tbody>\n",
       "    <tr>\n",
       "      <th>count</th>\n",
       "      <td>1042</td>\n",
       "      <td>1042</td>\n",
       "      <td>1042</td>\n",
       "      <td>1042</td>\n",
       "      <td>1042</td>\n",
       "    </tr>\n",
       "    <tr>\n",
       "      <th>unique</th>\n",
       "      <td>191</td>\n",
       "      <td>239</td>\n",
       "      <td>122</td>\n",
       "      <td>556</td>\n",
       "      <td>9</td>\n",
       "    </tr>\n",
       "    <tr>\n",
       "      <th>top</th>\n",
       "      <td>Patterned Learning Career</td>\n",
       "      <td>Junior Python Django Developer</td>\n",
       "      <td>United States</td>\n",
       "      <td>https://www.linkedin.com/jobs/view/entry-level...</td>\n",
       "      <td>2024-03-25</td>\n",
       "    </tr>\n",
       "    <tr>\n",
       "      <th>freq</th>\n",
       "      <td>163</td>\n",
       "      <td>47</td>\n",
       "      <td>223</td>\n",
       "      <td>6</td>\n",
       "      <td>279</td>\n",
       "    </tr>\n",
       "  </tbody>\n",
       "</table>\n",
       "</div>"
      ],
      "text/plain": [
       "                          company                             job  \\\n",
       "count                        1042                            1042   \n",
       "unique                        191                             239   \n",
       "top     Patterned Learning Career  Junior Python Django Developer   \n",
       "freq                          163                              47   \n",
       "\n",
       "               locate                                                url  \\\n",
       "count            1042                                               1042   \n",
       "unique            122                                                556   \n",
       "top     United States  https://www.linkedin.com/jobs/view/entry-level...   \n",
       "freq              223                                                  6   \n",
       "\n",
       "              date  \n",
       "count         1042  \n",
       "unique           9  \n",
       "top     2024-03-25  \n",
       "freq           279  "
      ]
     },
     "execution_count": 55,
     "metadata": {},
     "output_type": "execute_result"
    }
   ],
   "source": [
    "df.describe(include=['object'])"
   ]
  },
  {
   "cell_type": "code",
   "execution_count": 58,
   "metadata": {},
   "outputs": [
    {
     "data": {
      "text/plain": [
       "0                        Houston, TX\n",
       "1                      United States\n",
       "2    New York City Metropolitan Area\n",
       "3                   Mount Laurel, NJ\n",
       "4                   Autaugaville, AL\n",
       "Name: locate, dtype: object"
      ]
     },
     "execution_count": 58,
     "metadata": {},
     "output_type": "execute_result"
    }
   ],
   "source": [
    "df['locate'].head()"
   ]
  },
  {
   "cell_type": "code",
   "execution_count": 77,
   "metadata": {},
   "outputs": [
    {
     "name": "stderr",
     "output_type": "stream",
     "text": [
      "C:\\Users\\jv_aa\\AppData\\Local\\Temp\\ipykernel_15288\\2484239873.py:3: SettingWithCopyWarning: \n",
      "A value is trying to be set on a copy of a slice from a DataFrame.\n",
      "Try using .loc[row_indexer,col_indexer] = value instead\n",
      "\n",
      "See the caveats in the documentation: https://pandas.pydata.org/pandas-docs/stable/user_guide/indexing.html#returning-a-view-versus-a-copy\n",
      "  new_df['state_code'] = new_df['locate'].str.split(',').str[1].str.strip()\n"
     ]
    }
   ],
   "source": [
    "new_df = df.loc[(df['locate'] != \"United States\")]\n",
    "\n",
    "new_df['state_code'] = new_df['locate'].str.split(',').str[1].str.strip()"
   ]
  },
  {
   "cell_type": "code",
   "execution_count": 78,
   "metadata": {},
   "outputs": [
    {
     "data": {
      "text/html": [
       "<div>\n",
       "<style scoped>\n",
       "    .dataframe tbody tr th:only-of-type {\n",
       "        vertical-align: middle;\n",
       "    }\n",
       "\n",
       "    .dataframe tbody tr th {\n",
       "        vertical-align: top;\n",
       "    }\n",
       "\n",
       "    .dataframe thead th {\n",
       "        text-align: right;\n",
       "    }\n",
       "</style>\n",
       "<table border=\"1\" class=\"dataframe\">\n",
       "  <thead>\n",
       "    <tr style=\"text-align: right;\">\n",
       "      <th></th>\n",
       "      <th>id</th>\n",
       "      <th>company</th>\n",
       "      <th>job</th>\n",
       "      <th>locate</th>\n",
       "      <th>url</th>\n",
       "      <th>date</th>\n",
       "      <th>state_code</th>\n",
       "    </tr>\n",
       "  </thead>\n",
       "  <tbody>\n",
       "    <tr>\n",
       "      <th>0</th>\n",
       "      <td>1</td>\n",
       "      <td>Dexian Inc</td>\n",
       "      <td>Entry Level Data Engineering</td>\n",
       "      <td>Houston, TX</td>\n",
       "      <td>https://www.linkedin.com/jobs/view/entry-level...</td>\n",
       "      <td>2024-03-24</td>\n",
       "      <td>TX</td>\n",
       "    </tr>\n",
       "    <tr>\n",
       "      <th>2</th>\n",
       "      <td>3</td>\n",
       "      <td>Medasource</td>\n",
       "      <td>Data Analyst</td>\n",
       "      <td>New York City Metropolitan Area</td>\n",
       "      <td>https://www.linkedin.com/jobs/view/data-analys...</td>\n",
       "      <td>2024-03-25</td>\n",
       "      <td>NaN</td>\n",
       "    </tr>\n",
       "    <tr>\n",
       "      <th>3</th>\n",
       "      <td>4</td>\n",
       "      <td>Get It Recruit - Information Technology</td>\n",
       "      <td>Junior Software Developer - Remote | WFH</td>\n",
       "      <td>Mount Laurel, NJ</td>\n",
       "      <td>https://www.linkedin.com/jobs/view/junior-soft...</td>\n",
       "      <td>2024-03-25</td>\n",
       "      <td>NJ</td>\n",
       "    </tr>\n",
       "    <tr>\n",
       "      <th>4</th>\n",
       "      <td>5</td>\n",
       "      <td>Dexian Inc</td>\n",
       "      <td>Junior Backend Engineer</td>\n",
       "      <td>Autaugaville, AL</td>\n",
       "      <td>https://www.linkedin.com/jobs/view/junior-back...</td>\n",
       "      <td>2024-03-24</td>\n",
       "      <td>AL</td>\n",
       "    </tr>\n",
       "    <tr>\n",
       "      <th>5</th>\n",
       "      <td>6</td>\n",
       "      <td>HireMeFast LLC</td>\n",
       "      <td>Data Scientist Entry Level</td>\n",
       "      <td>Fort Smith, AR</td>\n",
       "      <td>https://www.linkedin.com/jobs/view/data-scient...</td>\n",
       "      <td>2024-03-24</td>\n",
       "      <td>AR</td>\n",
       "    </tr>\n",
       "  </tbody>\n",
       "</table>\n",
       "</div>"
      ],
      "text/plain": [
       "   id                                  company  \\\n",
       "0   1                               Dexian Inc   \n",
       "2   3                               Medasource   \n",
       "3   4  Get It Recruit - Information Technology   \n",
       "4   5                               Dexian Inc   \n",
       "5   6                           HireMeFast LLC   \n",
       "\n",
       "                                        job                           locate  \\\n",
       "0              Entry Level Data Engineering                      Houston, TX   \n",
       "2                              Data Analyst  New York City Metropolitan Area   \n",
       "3  Junior Software Developer - Remote | WFH                 Mount Laurel, NJ   \n",
       "4                   Junior Backend Engineer                 Autaugaville, AL   \n",
       "5                Data Scientist Entry Level                   Fort Smith, AR   \n",
       "\n",
       "                                                 url        date state_code  \n",
       "0  https://www.linkedin.com/jobs/view/entry-level...  2024-03-24         TX  \n",
       "2  https://www.linkedin.com/jobs/view/data-analys...  2024-03-25        NaN  \n",
       "3  https://www.linkedin.com/jobs/view/junior-soft...  2024-03-25         NJ  \n",
       "4  https://www.linkedin.com/jobs/view/junior-back...  2024-03-24         AL  \n",
       "5  https://www.linkedin.com/jobs/view/data-scient...  2024-03-24         AR  "
      ]
     },
     "execution_count": 78,
     "metadata": {},
     "output_type": "execute_result"
    }
   ],
   "source": [
    "new_df.head()"
   ]
  },
  {
   "cell_type": "code",
   "execution_count": 79,
   "metadata": {},
   "outputs": [
    {
     "data": {
      "text/plain": [
       "(819, 7)"
      ]
     },
     "execution_count": 79,
     "metadata": {},
     "output_type": "execute_result"
    }
   ],
   "source": [
    "new_df.shape"
   ]
  },
  {
   "cell_type": "code",
   "execution_count": 80,
   "metadata": {},
   "outputs": [
    {
     "name": "stdout",
     "output_type": "stream",
     "text": [
      "id             0\n",
      "company        0\n",
      "job            0\n",
      "locate         0\n",
      "url            0\n",
      "date           0\n",
      "state_code    14\n",
      "dtype: int64\n"
     ]
    }
   ],
   "source": [
    "print(new_df.isnull().sum())"
   ]
  },
  {
   "cell_type": "code",
   "execution_count": 85,
   "metadata": {},
   "outputs": [
    {
     "name": "stderr",
     "output_type": "stream",
     "text": [
      "C:\\Users\\jv_aa\\AppData\\Local\\Temp\\ipykernel_15288\\1279144567.py:1: SettingWithCopyWarning: \n",
      "A value is trying to be set on a copy of a slice from a DataFrame\n",
      "\n",
      "See the caveats in the documentation: https://pandas.pydata.org/pandas-docs/stable/user_guide/indexing.html#returning-a-view-versus-a-copy\n",
      "  new_df.dropna(subset=[\"state_code\"], axis=0, inplace=True)\n",
      "C:\\Users\\jv_aa\\AppData\\Local\\Temp\\ipykernel_15288\\1279144567.py:3: SettingWithCopyWarning: \n",
      "A value is trying to be set on a copy of a slice from a DataFrame\n",
      "\n",
      "See the caveats in the documentation: https://pandas.pydata.org/pandas-docs/stable/user_guide/indexing.html#returning-a-view-versus-a-copy\n",
      "  new_df.drop(\"locate\", axis=1, inplace=True)\n"
     ]
    }
   ],
   "source": [
    "new_df.dropna(subset=[\"state_code\"], axis=0, inplace=True)\n",
    "\n",
    "new_df.drop(\"locate\", axis=1, inplace=True)\n",
    "\n",
    "new_df.reset_index(drop=True, inplace=True)"
   ]
  },
  {
   "cell_type": "code",
   "execution_count": 86,
   "metadata": {},
   "outputs": [
    {
     "name": "stdout",
     "output_type": "stream",
     "text": [
      "id            0\n",
      "company       0\n",
      "job           0\n",
      "url           0\n",
      "date          0\n",
      "state_code    0\n",
      "dtype: int64\n"
     ]
    }
   ],
   "source": [
    "print(new_df.isnull().sum())"
   ]
  },
  {
   "cell_type": "code",
   "execution_count": 87,
   "metadata": {},
   "outputs": [
    {
     "data": {
      "text/plain": [
       "(805, 6)"
      ]
     },
     "execution_count": 87,
     "metadata": {},
     "output_type": "execute_result"
    }
   ],
   "source": [
    "new_df.shape"
   ]
  },
  {
   "cell_type": "code",
   "execution_count": 89,
   "metadata": {},
   "outputs": [
    {
     "data": {
      "text/html": [
       "<div>\n",
       "<style scoped>\n",
       "    .dataframe tbody tr th:only-of-type {\n",
       "        vertical-align: middle;\n",
       "    }\n",
       "\n",
       "    .dataframe tbody tr th {\n",
       "        vertical-align: top;\n",
       "    }\n",
       "\n",
       "    .dataframe thead th {\n",
       "        text-align: right;\n",
       "    }\n",
       "</style>\n",
       "<table border=\"1\" class=\"dataframe\">\n",
       "  <thead>\n",
       "    <tr style=\"text-align: right;\">\n",
       "      <th></th>\n",
       "      <th>company</th>\n",
       "      <th>job</th>\n",
       "      <th>url</th>\n",
       "      <th>date</th>\n",
       "      <th>state_code</th>\n",
       "    </tr>\n",
       "  </thead>\n",
       "  <tbody>\n",
       "    <tr>\n",
       "      <th>count</th>\n",
       "      <td>805</td>\n",
       "      <td>805</td>\n",
       "      <td>805</td>\n",
       "      <td>805</td>\n",
       "      <td>805</td>\n",
       "    </tr>\n",
       "    <tr>\n",
       "      <th>unique</th>\n",
       "      <td>84</td>\n",
       "      <td>145</td>\n",
       "      <td>408</td>\n",
       "      <td>9</td>\n",
       "      <td>37</td>\n",
       "    </tr>\n",
       "    <tr>\n",
       "      <th>top</th>\n",
       "      <td>Patterned Learning Career</td>\n",
       "      <td>Junior Python Django Developer</td>\n",
       "      <td>https://www.linkedin.com/jobs/view/entry-level...</td>\n",
       "      <td>2024-03-31</td>\n",
       "      <td>NY</td>\n",
       "    </tr>\n",
       "    <tr>\n",
       "      <th>freq</th>\n",
       "      <td>163</td>\n",
       "      <td>47</td>\n",
       "      <td>6</td>\n",
       "      <td>248</td>\n",
       "      <td>115</td>\n",
       "    </tr>\n",
       "  </tbody>\n",
       "</table>\n",
       "</div>"
      ],
      "text/plain": [
       "                          company                             job  \\\n",
       "count                         805                             805   \n",
       "unique                         84                             145   \n",
       "top     Patterned Learning Career  Junior Python Django Developer   \n",
       "freq                          163                              47   \n",
       "\n",
       "                                                      url        date  \\\n",
       "count                                                 805         805   \n",
       "unique                                                408           9   \n",
       "top     https://www.linkedin.com/jobs/view/entry-level...  2024-03-31   \n",
       "freq                                                    6         248   \n",
       "\n",
       "       state_code  \n",
       "count         805  \n",
       "unique         37  \n",
       "top            NY  \n",
       "freq          115  "
      ]
     },
     "execution_count": 89,
     "metadata": {},
     "output_type": "execute_result"
    }
   ],
   "source": [
    "new_df.describe(include=['object'])"
   ]
  },
  {
   "cell_type": "code",
   "execution_count": 99,
   "metadata": {},
   "outputs": [
    {
     "data": {
      "image/png": "[encoded data removed]",
      "text/plain": [
       "<Figure size 3000x1500 with 1 Axes>"
      ]
     },
     "metadata": {},
     "output_type": "display_data"
    }
   ],
   "source": [
    "pyplot.figure(figsize=(30, 15))\n",
    "pyplot.subplot(1, 2, 2)\n",
    "sns.countplot(data = new_df, x = 'state_code')\n",
    "pyplot.title('Numer', size=11)\n",
    "pyplot.subplots_adjust(right=2)\n",
    "pyplot.show()"
   ]
  },
  {
   "cell_type": "code",
   "execution_count": 103,
   "metadata": {},
   "outputs": [],
   "source": [
    "new_df = new_df.loc[(new_df['state_code'] != \"United States\")]"
   ]
  },
  {
   "cell_type": "code",
   "execution_count": 104,
   "metadata": {},
   "outputs": [
    {
     "data": {
      "image/png": "[encoded data removed]",
      "text/plain": [
       "<Figure size 3000x1500 with 1 Axes>"
      ]
     },
     "metadata": {},
     "output_type": "display_data"
    }
   ],
   "source": [
    "pyplot.figure(figsize=(30, 15))\n",
    "pyplot.subplot(1, 2, 2)\n",
    "sns.countplot(data = new_df, x = 'state_code')\n",
    "pyplot.title('Numer', size=11)\n",
    "pyplot.subplots_adjust(right=2)\n",
    "pyplot.show()"
   ]
  }
 ],
 "metadata": {
  "kernelspec": {
   "display_name": "venv",
   "language": "python",
   "name": "python3"
  },
  "language_info": {
   "codemirror_mode": {
    "name": "ipython",
    "version": 3
   },
   "file_extension": ".py",
   "mimetype": "text/x-python",
   "name": "python",
   "nbconvert_exporter": "python",
   "pygments_lexer": "ipython3",
   "version": "3.12.0"
  }
 },
 "nbformat": 4,
 "nbformat_minor": 2
}
